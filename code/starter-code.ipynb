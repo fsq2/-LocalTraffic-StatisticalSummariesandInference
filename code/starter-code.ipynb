{
 "cells": [
  {
   "cell_type": "markdown",
   "metadata": {},
   "source": [
    "# Project 1: Driving Licenses, Traffic Accidents and Casualties Analysis"
   ]
  },
  {
   "cell_type": "markdown",
   "metadata": {},
   "source": [
    "## Problem Statment\n",
    "\n"
   ]
  },
  {
   "cell_type": "markdown",
   "metadata": {},
   "source": [
    "we are going to take a look at the causes of traffic and accidents in Saudi Arabia."
   ]
  },
  {
   "cell_type": "markdown",
   "metadata": {},
   "source": [
    "## Executive Summary\n",
    "#### we did an analysis of the data to check the causes of accidents and the top city that have  more accidents"
   ]
  },
  {
   "cell_type": "markdown",
   "metadata": {},
   "source": [
    "### Contents:\n",
    "- [Datasets Description](#Datasets-Description)\n",
    "- [Data Import & Cleaning](#Data-Import-and-Cleaning)\n",
    "- [Exploratory Data Analysis](#Exploratory-Data-Analysis)\n",
    "- [Data Visualization](#Visualize-the-data)\n",
    "- [Descriptive and Inferential Statistics](#Descriptive-and-Inferential-Statistics)\n",
    "- [Outside Research](#Outside-Research)\n",
    "- [Conclusions and Recommendations](#Conclusions-and-Recommendations)"
   ]
  },
  {
   "cell_type": "markdown",
   "metadata": {},
   "source": [
    "**If you combine your problem statement, executive summary, data dictionary, and conclusions/recommendations, you have an amazing README.md file that quickly aligns your audience to the contents of your project.** Don't forget to cite your data sources!"
   ]
  },
  {
   "cell_type": "markdown",
   "metadata": {},
   "source": [
    "*All libraries used should be added here, including any Jupyter magic commands*"
   ]
  },
  {
   "cell_type": "code",
   "execution_count": null,
   "metadata": {},
   "outputs": [],
   "source": [
    "import numpy as np\n",
    "import pandas as pd \n",
    "import scipy.stats as stats\n",
    "import seaborn as sns\n",
    "import matplotlib.pyplot as plt\n",
    "\n",
    "plt.style.use('fivethirtyeight')\n",
    "\n",
    "%config InlineBackend.figure_format = 'retina'\n",
    "%matplotlib inline"
   ]
  },
  {
   "cell_type": "markdown",
   "metadata": {},
   "source": [
    "## Datasets Description\n",
    "\n",
    "[Driving Licenses](https://datasource.kapsarc.org/explore/dataset/saudi-arabia-driving-licenses-issued-in-the-kingdom-2004-2008/information/?disjunctive.administritive_area&sort=time_period&location=5,24.37495,45.08024&basemap=jawg.streets)\n",
    "This dataset contains Saudi Arabia Driving Licenses Issued By Administrative Area for 1993 - 2016. Data from General Authority for Statistics . Follow datasource.kapsarc.org for timely data to advance energy economics research.\n",
    "\n",
    "[Traffic Accidents and Casualties](https://datasource.kapsarc.org/explore/dataset/saudi-arabia-traffic-accidents-and-casualties-injured-dead-2008/export/?disjunctive.region&disjunctive.indicator&sort=time_period)\n",
    "This dataset contains Saudi Arabia Traffic Accidents and Casualties by Region for 2016. Data from General Authority for Statistics. Follow datasource.kapsarc.org for timely data to advance energy economics research.\n"
   ]
  },
  {
   "cell_type": "markdown",
   "metadata": {},
   "source": [
    "## Data Import and Cleaning"
   ]
  },
  {
   "cell_type": "markdown",
   "metadata": {},
   "source": [
    "#### 1. Read In Driving Licenses & Traffic Accidents Data\n",
    "Read in the `saudi-arabia-traffic-accidents-2008.csv` and `saudi-arabia-driving-licenses-2004-2008.csv` files and assign them to appropriately named pandas dataframes."
   ]
  },
  {
   "cell_type": "code",
   "execution_count": null,
   "metadata": {},
   "outputs": [],
   "source": [
    "#Code\n",
    "acid = pd.read_csv('../data/saudi-arabia-traffic-accidents-2008.csv', sep=';')\n",
    "licen = pd.read_csv('../data/saudi-arabia-driving-licenses-2004-2008.csv', sep=';')"
   ]
  },
  {
   "cell_type": "markdown",
   "metadata": {},
   "source": [
    "#### 2. Display data\n",
    "\n",
    "Print the first 10 rows of each dataframe to your jupyter notebook"
   ]
  },
  {
   "cell_type": "code",
   "execution_count": null,
   "metadata": {},
   "outputs": [],
   "source": [
    "acid.head(10)"
   ]
  },
  {
   "cell_type": "code",
   "execution_count": null,
   "metadata": {},
   "outputs": [],
   "source": [
    "#Code\n",
    "licen.Year.unique()"
   ]
  },
  {
   "cell_type": "code",
   "execution_count": null,
   "metadata": {},
   "outputs": [],
   "source": [
    "acid.Year.unique()"
   ]
  },
  {
   "cell_type": "code",
   "execution_count": null,
   "metadata": {},
   "outputs": [],
   "source": [
    "acid.shape , licen.shape"
   ]
  },
  {
   "cell_type": "code",
   "execution_count": null,
   "metadata": {},
   "outputs": [],
   "source": [
    "acid.drop(columns = ['Unnamed: 0','Unnamed: 0.1'],inplace= True) # index"
   ]
  },
  {
   "cell_type": "code",
   "execution_count": null,
   "metadata": {},
   "outputs": [],
   "source": [
    "licen.drop(columns = 'Unnamed: 0',inplace= True) # index"
   ]
  },
  {
   "cell_type": "markdown",
   "metadata": {},
   "source": [
    "#### 3. Briefly describe the data\n",
    "\n",
    "Take your time looking through the data and briefly describe the data in the markdown cell below. Note things about what the columns might mean, and the general information that is conveyed in the dataframe."
   ]
  },
  {
   "cell_type": "markdown",
   "metadata": {},
   "source": [
    "##### &#x1F534; **Licence Dataset**.   \n",
    "1. <span style=\"color:green\">**Year**</span> :  the year of the Licen  count  \n",
    "2. <span style=\"color:green\">**Administritive Area**</span> :the area name \n",
    "3. <span style=\"color:green\"> **Driving Liceses**</span>: number of Driving Licen \n",
    "4.  <span style=\"color:green\"> **geo_point_2d**</span> : the longitude and latitude For the <span style=\"color:red\">**Administritive Area**</span>\n",
    "\n",
    "\n",
    "---\n",
    "##### &#x1F534; **accidents Dataset**.   \n",
    "1. <span style=\"color:green\">**Year**</span> :  the year of the accident count \n",
    "2. <span style=\"color:green\">**Region**</span> :the area , Region name   \n",
    "3. <span style=\"color:green\"> **Indicator**</span>: accident that are (Injured,Dead) and the total number of accident\n",
    "4. <span style=\"color:green\"> **Value**</span>: the Value accident that are (Injured,Dead) and the total number of accident\n",
    "5.  <span style=\"color:green\"> **geo_point_2d**</span> : the longitude and latitude For the <span style=\"color:red\">**Region**</span>\n",
    "\n",
    "#### it's long \n"
   ]
  },
  {
   "cell_type": "markdown",
   "metadata": {},
   "source": [
    "#### 4a. How complete is the data?\n",
    "##### &#x1F534; we are mising 31 observtion in geo point  in both datasets\n"
   ]
  },
  {
   "cell_type": "code",
   "execution_count": null,
   "metadata": {},
   "outputs": [],
   "source": [
    "#Code we did it above \n",
    "pd.DataFrame(acid.isnull().sum(),columns=[\"Number of Null\"]).T "
   ]
  },
  {
   "cell_type": "code",
   "execution_count": null,
   "metadata": {},
   "outputs": [],
   "source": [
    "pd.DataFrame(licen.isnull().sum(),columns=[\"Number of Null\"]).T"
   ]
  },
  {
   "cell_type": "code",
   "execution_count": null,
   "metadata": {},
   "outputs": [],
   "source": [
    "fig , ax = plt.subplots(nrows=1,ncols=2,figsize =(10,5))\n",
    "ax[0].barh(licen.isnull().sum().index,licen.isnull().sum())\n",
    "ax[1].bar(acid.isnull().sum().index,acid.isnull().sum());"
   ]
  },
  {
   "cell_type": "markdown",
   "metadata": {},
   "source": [
    "#### 4b. Are there any obvious issues with the observations?\n",
    "\n",
    "**What is the minimum *possible* value for each dataset? What is the maximum *possible* value?**"
   ]
  },
  {
   "cell_type": "code",
   "execution_count": null,
   "metadata": {},
   "outputs": [],
   "source": [
    "licen.describe().T.style"
   ]
  },
  {
   "cell_type": "code",
   "execution_count": null,
   "metadata": {},
   "outputs": [],
   "source": [
    "acid.describe().T.style"
   ]
  },
  {
   "cell_type": "code",
   "execution_count": null,
   "metadata": {},
   "outputs": [],
   "source": [
    "#Code \n",
    "pd.DataFrame([licen.max(),licen.min()]).T # 0 represent the max , 1 rprsent the min \n"
   ]
  },
  {
   "cell_type": "code",
   "execution_count": null,
   "metadata": {},
   "outputs": [],
   "source": [
    "pd.DataFrame([acid.max(),acid.min()]).T # 0 represent the max , 1 rprsent the min \n"
   ]
  },
  {
   "cell_type": "markdown",
   "metadata": {},
   "source": [
    "#### 5. What are your data types? \n",
    "Display the data types of each feature. "
   ]
  },
  {
   "cell_type": "code",
   "execution_count": null,
   "metadata": {
    "scrolled": true
   },
   "outputs": [],
   "source": [
    "#code object \n",
    "pd.DataFrame(acid.dtypes ,columns=['type'])\n"
   ]
  },
  {
   "cell_type": "code",
   "execution_count": null,
   "metadata": {},
   "outputs": [],
   "source": [
    "pd.DataFrame(licen.dtypes , columns=['type'])"
   ]
  },
  {
   "cell_type": "markdown",
   "metadata": {},
   "source": [
    "What did you learn?\n",
    "- Do any of them seem odd? \n",
    "- Which ones are not as they should be?  \n",
    " \n"
   ]
  },
  {
   "cell_type": "markdown",
   "metadata": {},
   "source": [
    "##### &#x1F534; **acidents Dataset**.   \n",
    "1. <span style=\"color:green\">**Year**</span> :  the year Most be Datime  having the () causes the Year to be Object  \n",
    "2. <span style=\"color:green\">**Region**</span> : the Region Should be the same as it's is taking considreation of splleing mistake     \n",
    "3. <span style=\"color:green\"> **Indicator**</span>: The indicator it's okay but we should make it as columns and it's value will be  the Values of the ```Value``` column\n",
    "4. <span style=\"color:green\"> **Value**</span>: should be integer  and remove the n from it causing  from begin integer type\n",
    "5.  <span style=\"color:green\"> **geo_point_2d**</span> : split it into two colmns and make it integer \n",
    "---\n",
    "##### &#x1F534; **Licenses Dataset**.   \n",
    "1. <span style=\"color:green\">**Year**</span> :  the year Most be Datime  having the () causes the Year to be Object  \n",
    "2. <span style=\"color:green\">**Region**</span> : the Region Should be the same as it's is taking considreation of splleing mistake     \n",
    "3. <span style=\"color:green\"> **Driving Liceses **</span>: should be int and remove n also fix col name \n",
    "4.  <span style=\"color:green\"> **geo_point_2d**</span> : split it into two colmns and make it integer "
   ]
  },
  {
   "cell_type": "markdown",
   "metadata": {},
   "source": [
    "#### 6. Fix incorrect data types\n",
    "Based on what you discovered above, use appropriate methods to re-type incorrectly typed data.\n",
    "- Define a function that will allow you to convert numerical columns to an appropriate numeric type. Use `map` or `apply` to change these columns in each dataframe."
   ]
  },
  {
   "cell_type": "markdown",
   "metadata": {},
   "source": [
    "- Fix any individual values preventing other columns from being the appropriate type."
   ]
  },
  {
   "cell_type": "code",
   "execution_count": null,
   "metadata": {},
   "outputs": [],
   "source": [
    "# # Firs Removing what will cause some problem when convorting  \n",
    "licen['Driving Liceses'] = licen['Driving Liceses'].str.replace('n','')\n",
    "acid['Value'] = acid['Value'].str.replace('n','')\n",
    "acid.Year = acid['Year'].str.strip('()')\n",
    "licen.Year = licen['Year'].str.strip('()')"
   ]
  },
  {
   "cell_type": "code",
   "execution_count": null,
   "metadata": {},
   "outputs": [],
   "source": [
    "def fix_datatype(val):\n",
    "    \"\"\"\n",
    "    convert numerical columns to an appropriate numeric type.\n",
    "    \"\"\"\n",
    "    return pd.to_numeric(val,errors='coerce')\n",
    "\n",
    "       "
   ]
  },
  {
   "cell_type": "code",
   "execution_count": null,
   "metadata": {},
   "outputs": [],
   "source": [
    "# pd.to_numeric(acid.Year)"
   ]
  },
  {
   "cell_type": "markdown",
   "metadata": {},
   "source": [
    "- Make new columns `x` and `y` using `geo_point_2d`"
   ]
  },
  {
   "cell_type": "code",
   "execution_count": null,
   "metadata": {},
   "outputs": [],
   "source": [
    "acid['x'] = acid.geo_point_2d.str.split(',',expand = True)[0].apply(fix_datatype)\n",
    "acid['y'] =  acid.geo_point_2d.str.split(',',expand = True)[1].apply(fix_datatype)\n",
    "licen['x'] =  licen.geo_point_2d.str.split(',',expand = True)[0].apply(fix_datatype)\n",
    "licen['y'] = licen.geo_point_2d.str.split(',',expand = True)[1].apply(fix_datatype)"
   ]
  },
  {
   "cell_type": "code",
   "execution_count": null,
   "metadata": {},
   "outputs": [],
   "source": [
    "acid.Value = acid.Value.apply(fix_datatype)\n",
    "acid.Year = acid.Year.apply(fix_datatype)\n",
    "licen['Driving Liceses'] = licen['Driving Liceses'].apply(fix_datatype)\n",
    "licen['Year'] = licen['Year'].apply(fix_datatype)"
   ]
  },
  {
   "cell_type": "code",
   "execution_count": null,
   "metadata": {},
   "outputs": [],
   "source": [
    "acid.head()"
   ]
  },
  {
   "cell_type": "code",
   "execution_count": null,
   "metadata": {},
   "outputs": [],
   "source": [
    "licen.head()"
   ]
  },
  {
   "cell_type": "markdown",
   "metadata": {},
   "source": [
    "- Finish your data modifications by making sure Yearhe columns are now typed appropriately."
   ]
  },
  {
   "cell_type": "code",
   "execution_count": null,
   "metadata": {},
   "outputs": [],
   "source": [
    "pd.DataFrame(acid.dtypes ,columns=['Type'])"
   ]
  },
  {
   "cell_type": "code",
   "execution_count": null,
   "metadata": {},
   "outputs": [],
   "source": [
    "pd.DataFrame(licen.dtypes ,columns=['Type']) # year is float ???"
   ]
  },
  {
   "cell_type": "markdown",
   "metadata": {},
   "source": [
    "- Display the data types again to confirm they are correct."
   ]
  },
  {
   "cell_type": "code",
   "execution_count": null,
   "metadata": {},
   "outputs": [],
   "source": [
    "#Code:\n",
    "print(acid.info())\n",
    "print('----------------------------------------------')  \n",
    "print(licen.info())"
   ]
  },
  {
   "cell_type": "markdown",
   "metadata": {},
   "source": [
    "#### 7. Rename columns\n",
    "Change the names of the columns to more expressive names so that you can tell the difference the Driving Licenses  columns and the & Traffic Accidents columns. Your solution should map all column names being changed at once (no repeated singular name-changes). **We will be combining these two datasets, and so you should name columns in an appropriate way**.\n",
    "\n",
    "**Guidelines**:\n",
    "- Column names should be all lowercase (you will thank yourself when you start pushing data to SQL later in the course)\n",
    "- Column names should not contain spaces (underscores will suffice--this allows for using the `df.column_name` method to access columns in addition to `df['column_name']`.\n",
    "- Column names should be unique and informative (the only feature that we actually share between dataframes is the state).\n",
    "- Please also fix any typos you see in the column names."
   ]
  },
  {
   "cell_type": "code",
   "execution_count": null,
   "metadata": {},
   "outputs": [],
   "source": [
    "# #code\n",
    "acid.columns = acid.columns.str.replace(' ','_').str.lower()\n",
    "licen.columns = licen.columns.str.replace(' ','_').str.lower().str.replace('driving_liceses','driving_licenses').str.replace('administritive_area','region')"
   ]
  },
  {
   "cell_type": "code",
   "execution_count": null,
   "metadata": {},
   "outputs": [],
   "source": [
    "acid.columns"
   ]
  },
  {
   "cell_type": "code",
   "execution_count": null,
   "metadata": {},
   "outputs": [],
   "source": [
    "licen.columns"
   ]
  },
  {
   "cell_type": "code",
   "execution_count": null,
   "metadata": {},
   "outputs": [],
   "source": [
    "# we dont need geo point \n",
    "acid.drop(labels=['geo_point_2d'],axis=1 , inplace=True)\n",
    "licen.drop(labels = ['geo_point_2d'],axis= 1,inplace=True)"
   ]
  },
  {
   "cell_type": "markdown",
   "metadata": {},
   "source": [
    "#### 8. Create a data dictionary\n",
    "\n",
    "Now that we've fixed our data, and given it appropriate names, let's create a [data dictionary](http://library.ucmerced.edu/node/10249). \n",
    "\n",
    "A data dictionary provides a quick overview of features/variables/columns, alongside data types and descriptions. The more descriptive you can be, the more useful this document is.\n",
    "\n",
    "Example of a Fictional Data Dictionary Entry: \n",
    "\n",
    "|Feature|Type|Dataset|Description|\n",
    "|---|---|---|---|\n",
    "|**county_pop**|*integer*|2010 census|The population of the county (units in thousands, where 2.5 represents 2500 people).| \n",
    "|**per_poverty**|*float*|2010 census|The percent of the county over the age of 18 living below the 200% of official US poverty rate (units percent to two decimal places 98.10 means 98.1%)|\n",
    "\n",
    "[Here's a quick link to a short guide for formatting markdown in Jupyter notebooks](https://jupyter-notebook.readthedocs.io/en/stable/examples/Notebook/Working%20With%20Markdown%20Cells.html).\n",
    "\n",
    "Provided is the skeleton for formatting a markdown table, with columns headers that will help you create a data dictionary to quickly summarize your data, as well as some examples. **This would be a great thing to copy and paste into your custom README for this project.**"
   ]
  },
  {
   "cell_type": "markdown",
   "metadata": {},
   "source": [
    "|Feature|Type|Dataset|Description|\n",
    "|---|---|---|---|\n",
    "|year|int|Driving_Licenses|the year of the licenses  count|\n",
    "|region|object|Driving_Licenses|the region name in the KSA | \n",
    "|driving_licenses|int|Driving_Licenses|number of Driving licenses| \n",
    "|x|float|Driving_Licenses|the longitude of the ```region```| \n",
    "|y|float|Driving_Licenses|the latitude of the ```region``` |"
   ]
  },
  {
   "cell_type": "markdown",
   "metadata": {},
   "source": [
    "|Feature|Type|Dataset|Description|\n",
    "|---|---|---|---|\n",
    "|year|int|Traffic_Accidents|the year of the accidents  count|\n",
    "|region|object|Traffic_Accidents|the region name in the KSA | \n",
    "|indicator|object|Traffic_Accidents|accident that are (Injured,Dead) and the total number of accident it's have only names and the values are in the value column| \n",
    "|value|int|Traffic_Accidents|the number of accidents the associate with indicator column| \n",
    "|x|float|Traffic_Accidents|the longitude of the ```region```| \n",
    "|y|float|Traffic_Accidents|the latitude of the ```region``` |\n"
   ]
  },
  {
   "cell_type": "markdown",
   "metadata": {},
   "source": [
    "#### 9. Drop unnecessary rows\n",
    "\n",
    "This study concerns accident and license in regions/area. Please do the followings:\n",
    "0. Which rows are not associated with regions? Total \n",
    "1. Confirm the numbers of all regions add up to total.\n",
    "2. Remove the rows that are not associated with regions"
   ]
  },
  {
   "cell_type": "code",
   "execution_count": null,
   "metadata": {},
   "outputs": [],
   "source": [
    "g_a =pd.crosstab(index=[acid.year,acid.indicator], columns=acid['region'] !='Total',\n",
    "    values=acid.value, aggfunc=sum)[1]"
   ]
  },
  {
   "cell_type": "code",
   "execution_count": null,
   "metadata": {},
   "outputs": [],
   "source": [
    "g_a"
   ]
  },
  {
   "cell_type": "code",
   "execution_count": null,
   "metadata": {},
   "outputs": [],
   "source": [
    "g_a_t = pd.crosstab(index=[acid.year,acid.indicator], columns=acid['region'] =='Total',\n",
    "    values=acid.value, aggfunc=sum)[1]"
   ]
  },
  {
   "cell_type": "code",
   "execution_count": null,
   "metadata": {},
   "outputs": [],
   "source": [
    "g_a == g_a_t"
   ]
  },
  {
   "cell_type": "code",
   "execution_count": null,
   "metadata": {},
   "outputs": [],
   "source": [
    "g_l_t = pd.crosstab(index=[licen.year] , columns=licen['region'] == 'Total', \n",
    "           values= licen.driving_licenses, aggfunc=sum)[1]\n"
   ]
  },
  {
   "cell_type": "code",
   "execution_count": null,
   "metadata": {},
   "outputs": [],
   "source": [
    "g_l = pd.crosstab(index=[licen.year] , columns=licen['region'] != 'Total', \n",
    "           values= licen.driving_licenses, aggfunc=sum)[1]\n"
   ]
  },
  {
   "cell_type": "code",
   "execution_count": null,
   "metadata": {},
   "outputs": [],
   "source": [
    "g_l_t == g_l"
   ]
  },
  {
   "cell_type": "code",
   "execution_count": null,
   "metadata": {},
   "outputs": [],
   "source": [
    "acid[acid['region']=='Total']"
   ]
  },
  {
   "cell_type": "code",
   "execution_count": null,
   "metadata": {},
   "outputs": [],
   "source": [
    "licen[licen['region'] =='Total']"
   ]
  },
  {
   "cell_type": "code",
   "execution_count": null,
   "metadata": {},
   "outputs": [],
   "source": [
    "licen.isnull().sum() , acid.isnull().sum() "
   ]
  },
  {
   "cell_type": "code",
   "execution_count": null,
   "metadata": {},
   "outputs": [],
   "source": [
    "# if we drop the null value we also can remve the Total  it will give us the same resault \n",
    "no_null_acid = acid.dropna()\n",
    "no_null_licen = licen.dropna()"
   ]
  },
  {
   "cell_type": "code",
   "execution_count": null,
   "metadata": {},
   "outputs": [],
   "source": [
    "r_t = acid.drop(acid[acid['region']=='Total'].index)\n",
    "r_t_l = licen.drop(licen[licen['region']=='Total'].index)\n"
   ]
  },
  {
   "cell_type": "code",
   "execution_count": null,
   "metadata": {},
   "outputs": [],
   "source": [
    "r_t == no_null_acid\n"
   ]
  },
  {
   "cell_type": "code",
   "execution_count": null,
   "metadata": {},
   "outputs": [],
   "source": [
    "r_t_l == no_null_licen"
   ]
  },
  {
   "cell_type": "code",
   "execution_count": null,
   "metadata": {},
   "outputs": [],
   "source": [
    "# so I will go with droping the null\n",
    "acid.dropna(inplace=True)\n",
    "licen.dropna(inplace= True)"
   ]
  },
  {
   "cell_type": "code",
   "execution_count": null,
   "metadata": {},
   "outputs": [],
   "source": [
    "acid[acid['region']=='Total']"
   ]
  },
  {
   "cell_type": "code",
   "execution_count": null,
   "metadata": {},
   "outputs": [],
   "source": [
    "licen[licen['region']=='Total']"
   ]
  },
  {
   "cell_type": "code",
   "execution_count": null,
   "metadata": {},
   "outputs": [],
   "source": [
    "licen.isnull().sum()"
   ]
  },
  {
   "cell_type": "code",
   "execution_count": null,
   "metadata": {},
   "outputs": [],
   "source": [
    "acid.isnull().sum()"
   ]
  },
  {
   "cell_type": "markdown",
   "metadata": {},
   "source": [
    "#### 10a. Data formats\n",
    "Is the License data in long or wide format? How about the Accident data? And why?\n",
    "###### the License data is in wide format ```we can notice that each column reprsent it's value```  \n",
    "###### the accident data is in Long format ```we can notice that from the indicator and value column```"
   ]
  },
  {
   "cell_type": "code",
   "execution_count": null,
   "metadata": {},
   "outputs": [],
   "source": [
    "#cod \n",
    "licen.head()"
   ]
  },
  {
   "cell_type": "markdown",
   "metadata": {},
   "source": [
    "#### 10b. Changing formats\n",
    "Which format would work best for both dataframes? Transform the datasets to the same format before merging in the next task."
   ]
  },
  {
   "cell_type": "code",
   "execution_count": null,
   "metadata": {},
   "outputs": [],
   "source": [
    "#code we will transform it to wide format \n",
    "acid_to_w = pd.pivot_table( acid,\n",
    "    values='value',\n",
    "    index=['year','region'],\n",
    "    columns= ['indicator'],\n",
    "                          )"
   ]
  },
  {
   "cell_type": "code",
   "execution_count": null,
   "metadata": {},
   "outputs": [],
   "source": [
    "acid_to_w.reset_index(inplace=True)"
   ]
  },
  {
   "cell_type": "code",
   "execution_count": null,
   "metadata": {},
   "outputs": [],
   "source": [
    "acid_to_w.head()"
   ]
  },
  {
   "cell_type": "code",
   "execution_count": null,
   "metadata": {},
   "outputs": [],
   "source": [
    "acid_to_w.columns = acid_to_w.columns.str.replace('-', '_').str.replace('.','_').str.replace(' ','_')"
   ]
  },
  {
   "cell_type": "markdown",
   "metadata": {},
   "source": [
    "#### 11. Merge dataframes\n",
    "\n",
    "Join the Driving Licenses & Traffic Accidents dataframes using the **region** and **year** in each dataframe as the key. Assign this to a new variable. Which join should you use to preserve the most data?"
   ]
  },
  {
   "cell_type": "code",
   "execution_count": null,
   "metadata": {},
   "outputs": [],
   "source": [
    "# first let's check the region names in each data set\n",
    "\n",
    "acid_to_w.region.unique() # Qassim to Al-Qassim , Eastern Region   to Eastern"
   ]
  },
  {
   "cell_type": "code",
   "execution_count": null,
   "metadata": {},
   "outputs": [],
   "source": [
    "licen.region.unique() # assir to asir ,Al-Qaseem  to   Al-Qassim"
   ]
  },
  {
   "cell_type": "code",
   "execution_count": null,
   "metadata": {},
   "outputs": [],
   "source": [
    "#code\n",
    "acid_to_w.region = acid_to_w.region.str.replace('Assir','Asir').replace('Qassim','Al-Qassim').str.replace('Eastern Region','Eastern')\n",
    "licen.region = licen.region.str.replace('Assir','Asir').str.replace('Al-Qaseem','Al-Qassim').str.replace('Eastern Region','Eastern')"
   ]
  },
  {
   "cell_type": "code",
   "execution_count": null,
   "metadata": {},
   "outputs": [],
   "source": [
    "acid_to_w.region.unique()"
   ]
  },
  {
   "cell_type": "code",
   "execution_count": null,
   "metadata": {},
   "outputs": [],
   "source": [
    "licen.region.unique()"
   ]
  },
  {
   "cell_type": "code",
   "execution_count": null,
   "metadata": {},
   "outputs": [],
   "source": [
    "licence_accdint = acid_to_w.merge(licen, how='outer',  on = ['year','region'])"
   ]
  },
  {
   "cell_type": "code",
   "execution_count": null,
   "metadata": {},
   "outputs": [],
   "source": [
    "licence_accdint"
   ]
  },
  {
   "cell_type": "markdown",
   "metadata": {},
   "source": [
    "#### 12. Save your cleaned, merged dataframe\n",
    "\n",
    "Use a relative path to save out your data as `combined_datasets.csv`."
   ]
  },
  {
   "cell_type": "code",
   "execution_count": null,
   "metadata": {},
   "outputs": [],
   "source": [
    "licence_accdint.to_csv('../data/combined_datasets.csv')"
   ]
  },
  {
   "cell_type": "code",
   "execution_count": null,
   "metadata": {},
   "outputs": [],
   "source": [
    "df = pd.read_csv('../data/combined_datasets.csv')"
   ]
  },
  {
   "cell_type": "markdown",
   "metadata": {},
   "source": [
    "## Exploratory Data Analysis\n",
    "\n",
    "\n",
    "### Summary Statistics\n",
    "Transpose the output of pandas `describe` method to create a quick overview of each numeric feature."
   ]
  },
  {
   "cell_type": "code",
   "execution_count": null,
   "metadata": {},
   "outputs": [],
   "source": [
    "df.drop(columns = 'Unnamed: 0',inplace= True) # index"
   ]
  },
  {
   "cell_type": "code",
   "execution_count": null,
   "metadata": {},
   "outputs": [],
   "source": [
    "df.dropna().describe().T.style"
   ]
  },
  {
   "cell_type": "markdown",
   "metadata": {},
   "source": [
    "#### Manually calculate standard deviation\n",
    "\n",
    "$$\\sigma = \\sqrt{\\frac{1}{n}\\sum_{i=1}^n(x_i - \\mu)^2}$$\n",
    "\n",
    "- Write a function to calculate standard deviation using the formula above"
   ]
  },
  {
   "cell_type": "code",
   "execution_count": null,
   "metadata": {},
   "outputs": [],
   "source": [
    "\n",
    "def mmean(x):\n",
    "     '''\n",
    "    calculate the mean \n",
    "    '''\n",
    "     return sum(x)/len(x)\n",
    "    \n",
    "def mstd(x):\n",
    "    '''\n",
    "    calculate standard deviation \n",
    "    '''\n",
    "    x.dropna(inplace = True)\n",
    "    std = (sum((x-mmean(x))**2)/len(x)) ** 0.5\n",
    "     \n",
    "    return std"
   ]
  },
  {
   "cell_type": "code",
   "execution_count": null,
   "metadata": {},
   "outputs": [],
   "source": [
    "print(\"############################## M-function\")\n",
    "print(df.dropna()._get_numeric_data().apply(mstd)) # diffren than pandas but the same as numpy\n",
    "print(\"############################## pandas\")\n",
    "print(df.dropna()._get_numeric_data().std()) \n",
    "print(\"############################## numpy\")\n",
    "print(np.std(df.dropna()._get_numeric_data())) "
   ]
  },
  {
   "cell_type": "markdown",
   "metadata": {},
   "source": [
    "- Use a **dictionary comprehension** to apply your standard deviation function to each numeric column in the dataframe.  **No loops**  \n",
    "- Assign the output to variable `sd` as a dictionary where: \n",
    "    - Each column name is now a key \n",
    "    - That standard deviation of the column is the value \n",
    "     \n",
    "*Example Output :* `{'Driving_Licenses_x': 120, 'Traffic_Accidents_x': 120, ...}`"
   ]
  },
  {
   "cell_type": "code",
   "execution_count": null,
   "metadata": {},
   "outputs": [],
   "source": [
    "#Code:\n",
    "key = df._get_numeric_data().columns \n",
    "val = df.dropna()._get_numeric_data().apply(mstd)\n",
    "sd = {k:v for k , v in zip(key,val)}"
   ]
  },
  {
   "cell_type": "code",
   "execution_count": null,
   "metadata": {},
   "outputs": [],
   "source": [
    "sd"
   ]
  },
  {
   "cell_type": "markdown",
   "metadata": {},
   "source": [
    "Do your manually calculated standard deviations match up with the output from pandas `describe`? What about numpy's `std` method?"
   ]
  },
  {
   "cell_type": "markdown",
   "metadata": {},
   "source": [
    "Answer:\n",
    "for ```pandas``` no, for ```numpy``` yes"
   ]
  },
  {
   "cell_type": "markdown",
   "metadata": {},
   "source": [
    "#### Investigate trends in the data\n",
    "Using sorting and/or masking (along with the `.head` method to not print our entire dataframe), consider the following questions:\n",
    "\n",
    "- Which regions have the highest and lowest Driving Licenses based on years (1993 - 2017)\n",
    "- Which regions have the highest and lowest mean Traffic Accidents numbers for years (2016 - 2017)\n",
    "- What are the regions that have more Driving Licenses issued in each year than the year average?\n",
    "- What are the regions that have more Traffic Accidents happened in each year than the year average?\n",
    "\n",
    "Based on what you've just observed, have you identified any regions that you're especially interested in? **Make a note of these and state *why* you think they're interesting**.\n",
    "\n",
    "**You should comment on your findings at each step in a markdown cell below your code block**. Make sure you include at least one example of sorting your dataframe by a column, and one example of using boolean filtering (i.e., masking) to select a subset of the dataframe."
   ]
  },
  {
   "cell_type": "code",
   "execution_count": null,
   "metadata": {},
   "outputs": [],
   "source": [
    "licen.loc[licen.groupby(['year'])['driving_licenses'].idxmax()]\n"
   ]
  },
  {
   "cell_type": "code",
   "execution_count": null,
   "metadata": {},
   "outputs": [],
   "source": [
    "# Regions have the highest Driving Licenses based on years (1993 - 2017)\n",
    "licen.loc[licen.groupby(['year'])['driving_licenses'].idxmax()].nlargest(100,columns = ['driving_licenses'] )"
   ]
  },
  {
   "cell_type": "code",
   "execution_count": null,
   "metadata": {},
   "outputs": [],
   "source": [
    "# Which regions have the highest and lowest mean Traffic Accidents numbers for years (2016 - 2017)\n",
    "licen.loc[licen.groupby(['year'])['driving_licenses'].idxmin()]"
   ]
  },
  {
   "cell_type": "code",
   "execution_count": null,
   "metadata": {},
   "outputs": [],
   "source": [
    "licen.loc[licen.groupby(['year'])['driving_licenses'].idxmin()].nsmallest(1,['driving_licenses'])"
   ]
  },
  {
   "cell_type": "code",
   "execution_count": null,
   "metadata": {},
   "outputs": [],
   "source": [
    "acid_1 = acid_to_w.groupby(['year', 'region'])['No__of_Accidents'].agg('mean') \n",
    "acid_1.groupby(level=0).idxmax()"
   ]
  },
  {
   "cell_type": "code",
   "execution_count": null,
   "metadata": {},
   "outputs": [],
   "source": [
    "acid_1.groupby(level=0).idxmin()"
   ]
  },
  {
   "cell_type": "code",
   "execution_count": null,
   "metadata": {},
   "outputs": [],
   "source": [
    "aac_mean = acid_to_w.groupby(['year','region'])['No__of_Accidents'].aggregate('mean').rename(\"Number of Accidents\").reset_index()\n",
    "aac_mer = acid_to_w.merge(aac_mean, on= ['year','region'])\n",
    "aac_mer "
   ]
  },
  {
   "cell_type": "code",
   "execution_count": null,
   "metadata": {},
   "outputs": [],
   "source": [
    "# What are the regions that have more Traffic Accidents happened in each year than the year average?\n",
    "lc_mean = licen.groupby('year')['driving_licenses'].aggregate('mean').rename(\"mean number of license\").reset_index()\n",
    "lc_mer = licen.merge(lc_mean, on= 'year')\n",
    "lc_mer  "
   ]
  },
  {
   "cell_type": "code",
   "execution_count": null,
   "metadata": {},
   "outputs": [],
   "source": [
    "# What are the regions that have more Traffic Accidents happened in each year than the year average?\n",
    "ac_mean = acid_to_w.groupby('year')[['No__of_Accidents']].mean()\n",
    "tr_mer = acid_to_w.merge(ac_mean, on= 'year')\n",
    "tr_mer "
   ]
  },
  {
   "cell_type": "markdown",
   "metadata": {},
   "source": [
    "## Visualize the data\n",
    "\n",
    "There's not a magic bullet recommendation for the right number of plots to understand a given dataset, but visualizing your data is *always* a good idea. Not only does it allow you to quickly convey your findings (even if you have a non-technical audience), it will often reveal trends in your data that escapeyearou when you were looking only at numbers.\n",
    "\n",
    "Some recommendations on plotting:\n",
    "- Plots have titles\n",
    "- Plots have axis labels\n",
    "- Plots have appropriate tick labels\n",
    "- All text is legible in a plot\n",
    "- Plots demonstrate meaningful and valid relationships\n",
    "- Plots are interpreted to aid understanding\n",
    "\n",
    "There is such a thing as too many plots, and there are a *lot* of bad plots. You might make some! (But hopefully not with the guided prompts below)."
   ]
  },
  {
   "cell_type": "markdown",
   "metadata": {},
   "source": [
    "#### Use Seaborn's heatmap with pandas `.corr()` to visualize correlations between all numeric features\n",
    "\n",
    "Heatmaps are generally not appropriate for presentations, and should often be excluded from reports as they can be visually overwhelming. **However**, they can be extremely useful in identify relationships of potential interest (as well as identifying potential collinearity before modeling).\n",
    "\n",
    "*example*:\n",
    "```python\n",
    "sns.heatmap(df.corr())\n",
    "```\n",
    "\n",
    "Please take time to format your output, adding a title. Look through some of the additional arguments and options. (Axis labels aren't really necessary, as long as the title is informative)."
   ]
  },
  {
   "cell_type": "code",
   "execution_count": null,
   "metadata": {},
   "outputs": [],
   "source": [
    "heat = df.drop(axis=1,columns=['x','y'])"
   ]
  },
  {
   "cell_type": "code",
   "execution_count": null,
   "metadata": {},
   "outputs": [],
   "source": [
    "plt.figure(figsize=(15,10))\n",
    "sns.heatmap(heat.corr(),annot=True)\n",
    "plt.title('correlations between all numeric features');"
   ]
  },
  {
   "cell_type": "markdown",
   "metadata": {},
   "source": [
    "#### Define a custom function to subplot histograms\n",
    "\n",
    "We should write a function that will take the names of 2+ columns and subplot histograms. While you can use pandas plotting or Seaborn here, matplotlib gives you greater control over all aspects of your plots.\n",
    "\n",
    "[Helpful Link for Plotting Multiple Figures](https://matplotlib.org/users/pyplot_tutorial.html#working-with-multiple-figures-and-axes)\n",
    "\n",
    "Here's some starter code:"
   ]
  },
  {
   "cell_type": "code",
   "execution_count": null,
   "metadata": {},
   "outputs": [],
   "source": [
    "def subplot_histograms(dataframe, list_of_columns, list_of_titles, list_of_xlabels):\n",
    "    nrows = int(np.ceil(len(list_of_columns)/2)) # Makes sure you have enough rows\n",
    "    fig, ax = plt.subplots(nrows=nrows, ncols=2,figsize = (15,10)) # You'll want to specify your figsize\n",
    "    ax = ax.ravel() # Ravel turns a matrix into a vector, which is easier to iterate\n",
    "    for i, column in enumerate(list_of_columns): # Gives us an index value to get into all our lists\n",
    "        ax[i].hist(dataframe[column],bins = 5) # feel free to add more settings\n",
    "    for i , column in enumerate(list_of_titles):  #Set titles\n",
    "        ax[i].set_title(column)\n",
    "    for i , column in enumerate(list_of_xlabels): #  labels\n",
    "        ax[i].set_xlabel(column)"
   ]
  },
  {
   "cell_type": "markdown",
   "metadata": {},
   "source": [
    "#### Plot and interpret histograms \n",
    "For each of the following:\n",
    "- Driving Licenses number\n",
    "- Traffic Accidents number\n",
    "\n",
    "Please plot two additional histograms that will help with your understanding of the data"
   ]
  },
  {
   "cell_type": "code",
   "execution_count": null,
   "metadata": {},
   "outputs": [],
   "source": [
    "# Code\n",
    "subplot_histograms(df , list_of_columns=['No__of_Accidents','driving_licenses'] ,list_of_titles=['Traffic Accidents number','Driving Licenses number'], list_of_xlabels=['number of accident','number of Driving Licenses '])"
   ]
  },
  {
   "cell_type": "markdown",
   "metadata": {},
   "source": [
    "#### Plot and interpret scatter plots\n",
    "\n",
    "For each of the following:\n",
    "- Driving Licenses vs. Traffic Accidents for 2017\n",
    "- Driving Licenses vs. Traffic Accidents for 2016\n",
    "- Driving Licenses for 2016 vs 2017\n",
    "- Traffic Accidents for 2016 vs 2017\n",
    "\n",
    "Plot the two variables against each other using matplotlib or Seaborn\n",
    "\n",
    "Your plots should show:\n",
    "- Two clearly labeled axes\n",
    "- A proper title\n",
    "- Using colors and symbols that are clear and unmistakable\n",
    "\n",
    "**Feel free to write a custom function, and subplot if you'd like.** Functions save both time and space.\n"
   ]
  },
  {
   "cell_type": "code",
   "execution_count": null,
   "metadata": {},
   "outputs": [],
   "source": [
    "sns.scatterplot(x = 'driving_licenses' , y = 'No__of_Accidents' , hue = 'region' , data = df[df['year']==2017])\n",
    "plt.title('Number of accidents and Driving licenses for 2017 (with outlier)')\n",
    "plt.xlabel('driving licenses')\n",
    "plt.ylabel('Number of accidents')\n",
    "plt.legend(loc=\"upper right\",bbox_to_anchor=(0.8, 0.5, 0.6, 0.5));"
   ]
  },
  {
   "cell_type": "code",
   "execution_count": null,
   "metadata": {},
   "outputs": [],
   "source": [
    "c = ['Riyadh','Makkah','Eastern']"
   ]
  },
  {
   "cell_type": "code",
   "execution_count": null,
   "metadata": {},
   "outputs": [],
   "source": [
    "sns.scatterplot(x = 'driving_licenses' , y = 'No__of_Accidents' , hue = 'region' , data = df[(df['year']==2017) & (~ df['region'].isin(c)) ])\n",
    "plt.title('Number of accidents and Driving licenses for 2017')\n",
    "plt.xlabel('driving licenses')\n",
    "plt.ylabel('Number of accidents')\n",
    "plt.legend(loc=\"upper right\",bbox_to_anchor=(0.8, 0.5, 0.6, 0.5));"
   ]
  },
  {
   "cell_type": "code",
   "execution_count": null,
   "metadata": {},
   "outputs": [],
   "source": [
    "sns.scatterplot(x = 'driving_licenses' , y = 'No__of_Accidents' , hue = 'region' , data = df[df['year']==2016])\n",
    "plt.title('Number of accidents and Driving licenses for 2016 (with outlier)')\n",
    "plt.xlabel('driving licenses')\n",
    "plt.ylabel('Number of accidents')\n",
    "plt.legend(loc=\"upper right\",bbox_to_anchor=(0.8, 0.5, 0.6, 0.5));"
   ]
  },
  {
   "cell_type": "code",
   "execution_count": null,
   "metadata": {},
   "outputs": [],
   "source": [
    "sns.scatterplot(x = 'driving_licenses' , y = 'No__of_Accidents' , hue = 'region' , data = df[(df['year']==2017) & (~ df['region'].isin(c)) ])\n",
    "plt.title('Number of accidents and Driving licenses for 2017')\n",
    "plt.xlabel('driving licenses')\n",
    "plt.ylabel('Number of accidents')\n",
    "plt.legend(loc=\"upper right\",bbox_to_anchor=(0.8, 0.5, 0.6, 0.5));"
   ]
  },
  {
   "cell_type": "code",
   "execution_count": null,
   "metadata": {},
   "outputs": [],
   "source": [
    "lc_2016 = df[df['year'] == 2016]\n",
    "lc_2017 = df[df['year'] == 2017]\n",
    "lc_x = lc_2016['driving_licenses'].ravel()\n",
    "lc_y = lc_2017['driving_licenses'].ravel()"
   ]
  },
  {
   "cell_type": "code",
   "execution_count": null,
   "metadata": {},
   "outputs": [],
   "source": [
    "# Driving Licenses for 2016 vs 2017\n",
    "sns.scatterplot(x = lc_x, y = lc_y )\n",
    "plt.title('Driving licenses for 2016 Vs 2017')\n",
    "plt.xlabel('driving licenses 2016')\n",
    "plt.ylabel('driving licenses 2017')"
   ]
  },
  {
   "cell_type": "code",
   "execution_count": null,
   "metadata": {},
   "outputs": [],
   "source": [
    "df_2016_1 = df[df['year'] == 2016]\n",
    "df_2017_1 = df[df['year'] == 2017]\n",
    "d1 = df_2017_1['No__of_Accidents'].ravel()\n",
    "d2 = df_2016_1['No__of_Accidents'].ravel()"
   ]
  },
  {
   "cell_type": "code",
   "execution_count": null,
   "metadata": {},
   "outputs": [],
   "source": [
    "# Driving Licenses for 2016 vs 2017\n",
    "sns.scatterplot(x = lc_x, y = lc_y )\n",
    "plt.title('Number of Accidents for 2016 Vs 2017')\n",
    "plt.xlabel('Number of Accidents  2016')\n",
    "plt.ylabel('Number of Accidents  2017')"
   ]
  },
  {
   "cell_type": "code",
   "execution_count": null,
   "metadata": {},
   "outputs": [],
   "source": [
    "# Code%killbgscripts"
   ]
  },
  {
   "cell_type": "markdown",
   "metadata": {},
   "source": [
    "#### Plot and interpret boxplots\n",
    "\n",
    "For each numeric variable in the dataframe create a boxplot using Seaborn. Boxplots demonstrate central tendency and spread in variables. In a certain sense, these are somewhat redundant with histograms, but you may be better able to identify clear outliers or differences in IQR, etc.\n",
    "\n",
    "Multiple values can be plotted to a single boxplot as long as they are of the same relative scale (meaning they have similar min/max values).\n",
    "\n",
    "Each boxplot should:\n",
    "- Only include variables of a similar scale\n",
    "- Have clear labels for each variable\n",
    "- Have appropriate titles and labels"
   ]
  },
  {
   "cell_type": "code",
   "execution_count": null,
   "metadata": {},
   "outputs": [],
   "source": [
    "sns.boxplot(x =df.No__of_Accidents)\n",
    "plt.title('Number of Accidents')\n",
    "plt.xlabel('Number of Accidents');"
   ]
  },
  {
   "cell_type": "code",
   "execution_count": null,
   "metadata": {},
   "outputs": [],
   "source": [
    "sns.boxplot(x =df.driving_licenses)\n",
    "plt.title('Number of Driving Licenses')\n",
    "plt.xlabel('Number of Driving Licenses')"
   ]
  },
  {
   "cell_type": "code",
   "execution_count": null,
   "metadata": {},
   "outputs": [],
   "source": [
    "sns.boxplot(x =df.year)\n",
    "plt.title('year')\n",
    "plt.xlabel('years')"
   ]
  },
  {
   "cell_type": "code",
   "execution_count": null,
   "metadata": {},
   "outputs": [],
   "source": [
    "sns.boxplot(x =df['No__of_Casualties___Dead'])\n",
    "plt.title('Number of Casualties Dead')\n",
    "plt.xlabel('Number of Casualties Dead');"
   ]
  },
  {
   "cell_type": "code",
   "execution_count": null,
   "metadata": {},
   "outputs": [],
   "source": [
    "sns.boxplot(x =df['No__of_Casualties___Injured'])\n",
    "plt.title('Number of Casualties Dead')\n",
    "plt.xlabel('Number of Casualties Dead');"
   ]
  },
  {
   "cell_type": "code",
   "execution_count": null,
   "metadata": {},
   "outputs": [],
   "source": [
    "plt.figure(figsize = (20,20))\n",
    "sns.boxplot(x =df['region'] , y = df['driving_licenses']); \n",
    "plt.title('Number of Driving Licenses (region) ')\n",
    "plt.xlabel('Region');"
   ]
  },
  {
   "cell_type": "code",
   "execution_count": null,
   "metadata": {},
   "outputs": [],
   "source": [
    "plt.figure(figsize = (20,20))\n",
    "sns.boxplot(x =df['region'] , y = df['No__of_Accidents']) \n",
    "plt.title('Number of Accidents (region) ')\n",
    "plt.xlabel('Region');"
   ]
  },
  {
   "cell_type": "markdown",
   "metadata": {},
   "source": [
    "#### Feel free to do additional plots below\n",
    "*(do research and choose your own chart types & variables)*\n",
    "\n",
    "Are there any additional trends or relationships you haven't explored? Was there something interesting you saw that you'd like to dive further into? It's likely that there are a few more plots you might want to generate to support your narrative and recommendations that you are building toward. **As always, make sure you're interpreting your plots as you go**."
   ]
  },
  {
   "cell_type": "code",
   "execution_count": null,
   "metadata": {},
   "outputs": [],
   "source": [
    "sns.distplot(acid_to_w.No__of_Accidents)\n",
    "plt.title('distrbution of the number of accident ')\n",
    "plt.xlabel('number of accident');"
   ]
  },
  {
   "cell_type": "code",
   "execution_count": null,
   "metadata": {},
   "outputs": [],
   "source": [
    "sns.distplot(acid_to_w.No__of_Casualties___Injured)\n",
    "plt.title('distrbution of the numberof Casualties  Injured')\n",
    "plt.xlabel('number of Casualties  Injured');"
   ]
  },
  {
   "cell_type": "code",
   "execution_count": null,
   "metadata": {},
   "outputs": [],
   "source": [
    "sns.distplot(acid_to_w.No__of_Casualties___Dead);\n",
    "plt.title('distrbution of the numberof Casualties  Dead')\n",
    "plt.xlabel('number of Casualties  Dead');"
   ]
  },
  {
   "cell_type": "code",
   "execution_count": null,
   "metadata": {},
   "outputs": [],
   "source": [
    "acid_to_w.groupby('year')[['No__of_Casualties___Injured']].mean().plot(kind='bar', figsize=(8,4), color='#004d61');\n",
    "plt.title('Number of Casualties Injureds for 2016 and 2017')\n",
    "plt.xlabel('year')\n",
    "plt.ylabel('Number of Casualties Injureds')\n",
    "plt.legend(bbox_to_anchor=(0.8, 0.5, 0.6, 0.5));"
   ]
  },
  {
   "cell_type": "code",
   "execution_count": null,
   "metadata": {},
   "outputs": [],
   "source": [
    "acid_to_w.groupby('region')[['No__of_Casualties___Injured']].sum().plot(kind='bar', figsize=(8,4), color='#004d61');\n",
    "plt.title('Number of Casualties Injureds by region')\n",
    "plt.xlabel('region')\n",
    "plt.ylabel('Number of Casualties Injureds')\n",
    "plt.legend(bbox_to_anchor=(0.8, 0.5, 0.6, 0.5));"
   ]
  },
  {
   "cell_type": "code",
   "execution_count": null,
   "metadata": {},
   "outputs": [],
   "source": [
    "g =sns.relplot(x=\"region\", y=\"No__of_Accidents\", kind=\"line\", data=df, color=\"#5bd1d7\");\n",
    "sns.set_context(\"paper\", font_scale=1, rc={\"lines.linewidth\": 1.5});\n",
    "plt.title('Number of accident  by region ', fontsize=15)\n",
    "g.fig.set_figheight(4)\n",
    "g.fig.set_figwidth(8)\n",
    "plt.xticks(rotation=45);\n"
   ]
  },
  {
   "cell_type": "code",
   "execution_count": null,
   "metadata": {},
   "outputs": [],
   "source": [
    "g =sns.relplot(x=\"region\", y='driving_licenses', kind=\"line\", data=df, color=\"#5bd1d7\");\n",
    "sns.set_context(\"paper\", font_scale=1, rc={\"lines.linewidth\": 1.5});\n",
    "plt.title('Number of driving licenses  by region ', fontsize=15)\n",
    "g.fig.set_figheight(4)\n",
    "g.fig.set_figwidth(8)\n",
    "plt.xticks(rotation=45);"
   ]
  },
  {
   "cell_type": "code",
   "execution_count": null,
   "metadata": {},
   "outputs": [],
   "source": [
    "licen.groupby('region')[['driving_licenses']].sum().plot(kind='bar', figsize=(8,4), color='#004d61');\n",
    "plt.title('Number of driving Licenses by region')\n",
    "plt.xlabel('region')\n",
    "plt.ylabel('Number of Driving Licenses')\n",
    "plt.legend(bbox_to_anchor=(0.8, 0.5, 0.6, 0.5));"
   ]
  },
  {
   "cell_type": "markdown",
   "metadata": {},
   "source": [
    "## Descriptive and Inferential Statistics"
   ]
  },
  {
   "cell_type": "markdown",
   "metadata": {},
   "source": [
    "#### Summarizing Distributions\n",
    "\n",
    "Above, we used pandas `describe` to provide quick summary statistics of our numeric columns. We also demonstrated many visual relationships.\n",
    "\n",
    "As data scientists, having a complete understanding of data is imperative prior to modeling.\n",
    "\n",
    "While we will continue to build our analytic tools, we know that measures of *central tendency*, *spread*, and *shape/skewness* provide a quick summary of distributions.\n",
    "\n",
    "For each variable in your data, summarize the underlying distributions (in words & statistics)\n",
    " - Be thorough in your verbal description of these distributions.\n",
    " - Be sure to back up these summaries with statistics."
   ]
  },
  {
   "cell_type": "markdown",
   "metadata": {},
   "source": [
    "Answers:"
   ]
  },
  {
   "cell_type": "markdown",
   "metadata": {},
   "source": [
    "#### We generally assuming that data we sample from a population will be normally distributed. Do we observe this trend?"
   ]
  },
  {
   "cell_type": "markdown",
   "metadata": {},
   "source": [
    "Answer:\n",
    "##### No we don't  observe this trend none of the columns are normaly distrbuted"
   ]
  },
  {
   "cell_type": "markdown",
   "metadata": {},
   "source": [
    "Does This Assumption Hold for:\n",
    "    - Driving Licenses\n",
    "    - Traffic Accidents\n",
    "Explain your answers for each distribution and how you think this will affect estimates made from these data."
   ]
  },
  {
   "cell_type": "markdown",
   "metadata": {},
   "source": [
    "Answer:\n",
    "we can check in ```df.describe()``` that our mean and median are diffrent "
   ]
  },
  {
   "cell_type": "code",
   "execution_count": null,
   "metadata": {},
   "outputs": [],
   "source": [
    "df.describe().T.style"
   ]
  },
  {
   "cell_type": "markdown",
   "metadata": {},
   "source": [
    "#### Statistical Evaluation of Distributions \n",
    "\n",
    "**If you feel it's appropriate**, using methods we discussed in class, run hypothesis tests to compare variables of interest in our dataset. "
   ]
  },
  {
   "cell_type": "code",
   "execution_count": null,
   "metadata": {},
   "outputs": [],
   "source": [
    "# Code I am not free "
   ]
  },
  {
   "cell_type": "markdown",
   "metadata": {},
   "source": [
    "## Outside Research"
   ]
  },
  {
   "cell_type": "markdown",
   "metadata": {},
   "source": [
    "Based upon your observations, choose **three** regions that demonstrate interesting trends in the number of driving licenses and traffic accidents. Spend some time doing outside research on provincial and central policies that might influence these rates, and summarize your findings below. **Feel free to go back and create new plots that highlight these states of interest**. If you bring in any outside tables or charts, make sure you are explicit about having borrowed them. If you quote any text, make sure that it renders as being quoted. (Make sure that you cite your sources -- check with you local instructor for citation preferences)."
   ]
  },
  {
   "cell_type": "markdown",
   "metadata": {},
   "source": [
    "Answer:"
   ]
  },
  {
   "cell_type": "markdown",
   "metadata": {},
   "source": [
    "## Conclusions and Recommendations"
   ]
  },
  {
   "cell_type": "markdown",
   "metadata": {},
   "source": [
    "- Based on your exploration of the data, what are you key takeaways and recommendations?\n",
    "- Are there additional data you desire that would better inform your investigations?"
   ]
  },
  {
   "cell_type": "markdown",
   "metadata": {},
   "source": [
    "Answer:\n",
    "##### &#x1F534; **Based on your exploration of the data, what are you key takeaways and recommendations?**.   \n",
    "1. I will sugest imporving the roads in both makkah and riyadh \n",
    "2. also increasing the cost of Traffic Violations can reduace accidents bassed on that the year 2017 had seen increase int the cost of  Traffic Violations\n",
    "3. Makkah is crowded and need more Traffic management\n",
    "4. Traffic management should be more strict on giving driving licence \n",
    "\n",
    "---\n",
    "##### &#x1F534; **Are there additional data you desire that would better inform your investigations?**.   \n",
    "1. having the roads name can improve our findings the  Causes of Road Accidents\n",
    "2. also increasing the cost of Traffic Violations can reduace accidents bassed on that the year 2017 had seen increase int the cost of  Traffic Violations\n",
    "3. The type of cars we can identfies what type of cars is dangerous on the roads\n"
   ]
  },
  {
   "cell_type": "code",
   "execution_count": null,
   "metadata": {},
   "outputs": [],
   "source": []
  },
  {
   "cell_type": "code",
   "execution_count": null,
   "metadata": {},
   "outputs": [],
   "source": []
  },
  {
   "cell_type": "code",
   "execution_count": null,
   "metadata": {},
   "outputs": [],
   "source": []
  },
  {
   "cell_type": "code",
   "execution_count": null,
   "metadata": {},
   "outputs": [],
   "source": []
  },
  {
   "cell_type": "code",
   "execution_count": null,
   "metadata": {},
   "outputs": [],
   "source": []
  }
 ],
 "metadata": {
  "anaconda-cloud": {},
  "kernelspec": {
   "display_name": "Python 3",
   "language": "python",
   "name": "python3"
  },
  "language_info": {
   "codemirror_mode": {
    "name": "ipython",
    "version": 3
   },
   "file_extension": ".py",
   "mimetype": "text/x-python",
   "name": "python",
   "nbconvert_exporter": "python",
   "pygments_lexer": "ipython3",
   "version": "3.7.7"
  }
 },
 "nbformat": 4,
 "nbformat_minor": 4
}
